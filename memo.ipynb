{
 "cells": [
  {
   "cell_type": "markdown",
   "metadata": {},
   "source": [
    "## §2. JavaScriptとは"
   ]
  },
  {
   "cell_type": "markdown",
   "metadata": {},
   "source": [
    "JavaScriptとは、主にWebページに **動的な演出** を加えることを目的としたプログラミング言語です。HTMLがWebページの文書の構造を静的に記述するのに対して、JavaScriptは時刻やユーザーの操作に従い、HTMLの要素の内容を動的に変えることができます。JavaScriptは使われる場面によって更に細かく分類することが出来て、実際にユーザーが操作したり見ることが出来る、ブラウザ側の処理の部分を **フロントエンドJS(クライアント・サイドJS)** と呼び、ユーザーからは見えない内部的なサーバー側の処理の部分を **バックエンドJS(サーバー・サイドJS)** と呼びます。\n",
    "  \n",
    "#### コラム : JavaとJavaScript\n",
    "プログラミング学習者の皆さんであれば、Javaと呼ばれるプログラミング言語があることはご存知でしょう。では、名前の似ているJavaとJavaScriptは何か関係があるのでしょうか？  \n",
    "答えは **全く関係ありません** 。  \n",
    "JavaScriptは、1990年代にNetscape社によってLiveScriptという名前で開発されました。当時Netscape社と業務提携していたSun Microsystems社の開発したJavaという言語が大きく流行ったため、JavaScriptという名前に変更されました。そのため、JavaとJavaScriptは名前は似ていても中身は全く別物です。"
   ]
  },
  {
   "cell_type": "markdown",
   "metadata": {},
   "source": [
    "### §2-1. フロントエンド"
   ]
  },
  {
   "cell_type": "markdown",
   "metadata": {},
   "source": [
    "この節では実際にhtmlにJavaScriptを書きながら、基本的なフロントエンドJSの動作を確認します。\n",
    "適当なディレクトリを作成し、その中にex1-1.htmlというファイルを用意して、以下に習って簡単なhtmlを書いてみましょう。\n",
    "```\n",
    "# コマンド\n",
    "$ mkdir test-html\n",
    "$ cd test-html\n",
    "$ touch ex1-1.html\n",
    "$ emacs ex1-1.html\n",
    "```"
   ]
  },
  {
   "cell_type": "markdown",
   "metadata": {},
   "source": [
    "<p style=\"padding-left: 10px\"><em>ex1.html</em></p>\n",
    "```html\n",
    "<!DOCTYPE html>\n",
    "<html>\n",
    "<head>\n",
    "    <meta charset=\"UTF-8\">\n",
    "</head>\n",
    "<body>\n",
    "    <script>\n",
    "        console.log(\"コンソールに表示されるかな？\")\n",
    "    </script>\n",
    "</body>\n",
    "</html>\n",
    "```"
   ]
  },
  {
   "cell_type": "markdown",
   "metadata": {},
   "source": [
    "ここで、\n",
    "<span style=\"background-color: #F5F5F5; padding: 2px; margin: 2px; border-radius: 2px; border: 1px solid black;\">&lt;body&gt;</span>\n",
    "タグ内に注目してください。  \n",
    "<span style=\"background-color: #F5F5F5; padding: 2px; margin: 2px; border-radius: 2px; border: 1px solid black;\">&lt;script&gt;</span>\n",
    "タグに囲まれて\n",
    "**console.log(\"\")**\n",
    "という文が描かれていることに気付くと思います。この文はfirefox上のコンソールに情報を出力する時に使います。コンソールとは、firefoxに標準搭載されている開発者向けのツールで、知りたい情報を専用のスペースに表示することができます。起動するにはページが表示された状態で *Alt+Shift+k* キーを入力します。  \n",
    "  \n",
    "では実際にfirefoxで今作ったex1-1.htmlをfirefoxで開き、コンソールを表示させてみましょう。  \n",
    "console.log()で与えた文章がfirefox上に表示されれば成功です。  \n",
    "  \n",
    "以下にこのページ上で操作できる物を作りました。各自console.log(\"\")に与えるテキストを変更して出力を確かめてみましょう。  \n",
    "(テキストは英語のみ対応してます)"
   ]
  },
  {
   "cell_type": "code",
   "execution_count": 11,
   "metadata": {
    "collapsed": false
   },
   "outputs": [
    {
     "name": "stdout",
     "output_type": "stream",
     "text": [
      "hello!!!!!!!!\n"
     ]
    }
   ],
   "source": [
    "console.log(\"hello!!!!!!!!\")"
   ]
  },
  {
   "cell_type": "markdown",
   "metadata": {},
   "source": [
    "もちろんコンソール出力以外にも、画面上にアラート画面として文字を出力する方法もあります。  \n",
    "上で作成したhtmlファイルの内容を以下のコードに変更してみましょう。"
   ]
  },
  {
   "cell_type": "markdown",
   "metadata": {},
   "source": [
    "<p style=\"padding-left: 10px\"><em>ex1.html</em></p>\n",
    "```html\n",
    "<!DOCTYPE html>\n",
    "<html>\n",
    "<head>\n",
    "    <meta charset=\"UTF-8\">\n",
    "</head>\n",
    "<body>\n",
    "    <script>\n",
    "        alert(\"アラート\")\n",
    "    </script>\n",
    "</body>\n",
    "</html>\n",
    "```"
   ]
  },
  {
   "cell_type": "markdown",
   "metadata": {},
   "source": [
    "Firefoxでhtmlファイルを開いて、アラート画面が表示されたら成功です。\n",
    "\n",
    "これらのコンソール、アラート機能は実際にhtml上にJavaScriptを書いていく上で、変数の値や望む出力が得られているか、実行されているかの確認などのデバック作業にも使うことが出来ます。  \n",
    "ここで重要なのが、アラートとコンソールの機能の違いです。\n",
    "htmlを以下のように変更して実際にその動作を確かめてみましょう。"
   ]
  },
  {
   "cell_type": "markdown",
   "metadata": {},
   "source": [
    "<p style=\"padding-left: 10px\"><em>ex1.html</em></p>\n",
    "```html\n",
    "<!DOCTYPE html>\n",
    "<html>\n",
    "<head>\n",
    "    <meta charset=\"UTF-8\">\n",
    "</head>\n",
    "<body>\n",
    "    <script>\n",
    "        var arr = [1,2,3,4]\n",
    "        \n",
    "        console.log(arr)\n",
    "        alert(arr)\n",
    "    </script>\n",
    "</body>\n",
    "</html>\n",
    "```"
   ]
  },
  {
   "cell_type": "markdown",
   "metadata": {},
   "source": [
    "ここで新しいコードが出てきました。\n",
    "\n",
    "```\n",
    "var arr = [1,2,3,4]\n",
    "```\n",
    "\n",
    "この文は、変数arrに1,2,3,4という要素を持つ配列を代入しています。JavaScript上ではこの様に変数にオブジェクトを代入することが出来ます。JavaScriptのオブジェクトについては次の節で詳しく説明します。\n",
    "\n",
    "さて、実際にFireoxでファイルを開きウィンドウを表示してみましょう。  \n",
    "最初に画面にアラートが表示されたら、その状態でコンソールの方も表示してみましょう。\n",
    "console.logの方には具体的なオブジェクト込み変数の内容が表示され、アラート画面の方にはオブジェクトの内容が表示されている違いに気づいたでしょうか？ \n",
    "\n",
    "前期に習ったRubyを思い出してください。標準出力をするプログラムを書く場合、pメソッドとputsメソッドがあリました。  \n",
    "JavaScriptでも、この様に表示される内容が使うメソッドによって変わってきます。  \n",
    "Rubyのputsメソッドに似ている挙動をするのがalert()で、pメソッドと似た動作がconsole.log()となります。この側面から、基本的にデバッグではconsole.log()を用いる様にしましょう。"
   ]
  },
  {
   "cell_type": "markdown",
   "metadata": {},
   "source": [
    "### §2-2. バックエンドJS (Node.js)"
   ]
  },
  {
   "cell_type": "markdown",
   "metadata": {},
   "source": [
    "**Node.js**とは、サーバーサイドJavaScript環境と呼ばれているものです。  \n",
    "JavaScriptを解釈し実行するものを **JavaScriptエンジン** と呼びますが、Node.jsではこのエンジンにGoogleが開発した **V8** を採用しており、メモリ消費量が少ない、高速な処理がNode.jsの主な特長となっています。\n",
    "\n",
    "今回、Node.jsの簡単なサンプルプログラムを下に用意しました。  \n",
    "以下のコードが書いてある部分をクリックし、プログラムを書き換え実際に実行結果を確認してみましょう。"
   ]
  },
  {
   "cell_type": "code",
   "execution_count": 22,
   "metadata": {
    "collapsed": false
   },
   "outputs": [
    {
     "name": "stdout",
     "output_type": "stream",
     "text": [
      "even\n"
     ]
    }
   ],
   "source": [
    "var bool = true;\n",
    "if(bool){\n",
    "    console.log(\"even\");\n",
    "}\n",
    "else{\n",
    "    console.log(\"odd\")\n",
    "}"
   ]
  },
  {
   "cell_type": "markdown",
   "metadata": {},
   "source": [
    "### §2-3. 関数と無名関数 (Node.js)"
   ]
  },
  {
   "cell_type": "markdown",
   "metadata": {},
   "source": [
    "### §2-4. JSON"
   ]
  },
  {
   "cell_type": "markdown",
   "metadata": {},
   "source": [
    "### §2-4.演習"
   ]
  },
  {
   "cell_type": "markdown",
   "metadata": {},
   "source": [
    "以下の演習問題を解き、理解を深めましょう。結果の確認には問題の下部にあるコンソールを利用しても構いません。"
   ]
  },
  {
   "cell_type": "markdown",
   "metadata": {},
   "source": [
    "*  コンソール上に\"Hello World.\"と出力するコードを書け。\n",
    "*  任意の文字を持つalert画面を表示するコードを書け。\n",
    "*  Node.jsを使い、数値の偶数/奇数判定をコンソール上に出力するコードを書け。"
   ]
  },
  {
   "cell_type": "code",
   "execution_count": null,
   "metadata": {
    "collapsed": true
   },
   "outputs": [],
   "source": []
  },
  {
   "cell_type": "markdown",
   "metadata": {},
   "source": [
    "### §2-5. チェックリスト"
   ]
  },
  {
   "cell_type": "markdown",
   "metadata": {},
   "source": [
    "* JavaScriptはどういった目的で使われるか\n",
    "* フロントエンドJSとは？\n",
    "* バックエンドJSとは？\n",
    "* Node.jsの特徴をいくつか挙げよ"
   ]
  },
  {
   "cell_type": "code",
   "execution_count": null,
   "metadata": {
    "collapsed": true
   },
   "outputs": [],
   "source": []
  }
 ],
 "metadata": {
  "kernelspec": {
   "display_name": "NodeJS",
   "language": "javascript",
   "name": "nodejs"
  },
  "language_info": {
   "codemirror_mode": "javascript",
   "file_extension": "js",
   "mimetype": "text/javascript",
   "name": "nodejs",
   "pygments_lexer": "javascript",
   "version": "0.10"
  }
 },
 "nbformat": 4,
 "nbformat_minor": 0
}
